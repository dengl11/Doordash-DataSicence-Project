{
 "cells": [
  {
   "cell_type": "markdown",
   "metadata": {},
   "source": [
    "# Train and Predict"
   ]
  },
  {
   "cell_type": "code",
   "execution_count": 1,
   "metadata": {},
   "outputs": [],
   "source": [
    "import numpy as np\n",
    "import matplotlib.pyplot as plt\n",
    "\n",
    "from sklearn import ensemble\n",
    "from sklearn import datasets\n",
    "from sklearn.utils import shuffle\n",
    "from sklearn.metrics import mean_squared_error\n",
    "from pprint import pprint\n",
    "from sklearn.model_selection import train_test_split\n",
    "\n",
    "from util import load_prediction_todo, diff_timestamps, load_prediction_todo_as_df\n",
    "from lib.util.dataframe_preprocessor import DataframePreprocessor\n",
    "from lib.util.df_ops import mat2df, dump\n",
    "from sklearn.linear_model import LinearRegression\n",
    "from sklearn.preprocessing import LabelEncoder\n",
    "from numpy import isnan\n",
    "from sklearn.preprocessing import OneHotEncoder\n",
    "\n",
    "%load_ext autoreload\n",
    "%autoreload 2"
   ]
  },
  {
   "cell_type": "markdown",
   "metadata": {},
   "source": [
    "## Preprocess"
   ]
  },
  {
   "cell_type": "code",
   "execution_count": 2,
   "metadata": {},
   "outputs": [
    {
     "name": "stdout",
     "output_type": "stream",
     "text": [
      "Data Imported: (197428, 16)\n"
     ]
    }
   ],
   "source": [
    "df_preprocessor = DataframePreprocessor.init_from_file(\"./data/historical_data.csv\")"
   ]
  },
  {
   "cell_type": "markdown",
   "metadata": {},
   "source": [
    "### Force type for columns"
   ]
  },
  {
   "cell_type": "code",
   "execution_count": 3,
   "metadata": {},
   "outputs": [],
   "source": [
    "df_preprocessor.force_column_dtype(\"created_at\", str)\n",
    "df_preprocessor.force_column_dtype(\"actual_delivery_time\", str)\n",
    "df_preprocessor.force_column_dtype(\"store_primary_category\", str)"
   ]
  },
  {
   "cell_type": "code",
   "execution_count": 4,
   "metadata": {},
   "outputs": [
    {
     "name": "stdout",
     "output_type": "stream",
     "text": [
      "Shape Updated from (197428, 16) -> (197428, 16) | 0 Rows Removed.\n",
      "Shape Updated from (197428, 16) -> (197421, 16) | 7 Rows Removed.\n"
     ]
    }
   ],
   "source": [
    "df_preprocessor.filter_rows_by_condition(\"created_at\", lambda x: x != \"nan\")\n",
    "df_preprocessor.filter_rows_by_condition(\"actual_delivery_time\", lambda x: x != \"nan\")"
   ]
  },
  {
   "cell_type": "code",
   "execution_count": 5,
   "metadata": {},
   "outputs": [],
   "source": [
    "created_at = df_preprocessor.get_dataframe()[\"created_at\"]\n",
    "actual_delivery_time = df_preprocessor.get_dataframe()[\"actual_delivery_time\"]\n",
    "delivery_seconds = [diff_timestamps(t1, t2) for (t1, t2) in zip(created_at, actual_delivery_time)]"
   ]
  },
  {
   "cell_type": "code",
   "execution_count": 6,
   "metadata": {},
   "outputs": [
    {
     "data": {
      "text/plain": [
       "197421"
      ]
     },
     "execution_count": 6,
     "metadata": {},
     "output_type": "execute_result"
    }
   ],
   "source": [
    "len(delivery_seconds)"
   ]
  },
  {
   "cell_type": "markdown",
   "metadata": {},
   "source": [
    "### Add generated column: delivery_seconds"
   ]
  },
  {
   "cell_type": "code",
   "execution_count": 7,
   "metadata": {},
   "outputs": [
    {
     "name": "stdout",
     "output_type": "stream",
     "text": [
      "Shape Updated from (197421, 16) -> (197421, 14) | 2 Columns Removed.\n"
     ]
    }
   ],
   "source": [
    "df_preprocessor.remove_cols([\"created_at\", 'actual_delivery_time'], kind=\"name\")\n",
    "df_preprocessor.append_column(\"delivery_seconds\", delivery_seconds)"
   ]
  },
  {
   "cell_type": "code",
   "execution_count": 8,
   "metadata": {},
   "outputs": [
    {
     "name": "stdout",
     "output_type": "stream",
     "text": [
      "Shape of Data: (197421, 15)\n"
     ]
    },
    {
     "data": {
      "text/html": [
       "<div>\n",
       "<style scoped>\n",
       "    .dataframe tbody tr th:only-of-type {\n",
       "        vertical-align: middle;\n",
       "    }\n",
       "\n",
       "    .dataframe tbody tr th {\n",
       "        vertical-align: top;\n",
       "    }\n",
       "\n",
       "    .dataframe thead th {\n",
       "        text-align: right;\n",
       "    }\n",
       "</style>\n",
       "<table border=\"1\" class=\"dataframe\">\n",
       "  <thead>\n",
       "    <tr style=\"text-align: right;\">\n",
       "      <th></th>\n",
       "      <th>market_id</th>\n",
       "      <th>store_id</th>\n",
       "      <th>store_primary_category</th>\n",
       "      <th>order_protocol</th>\n",
       "      <th>total_items</th>\n",
       "      <th>subtotal</th>\n",
       "      <th>num_distinct_items</th>\n",
       "      <th>min_item_price</th>\n",
       "      <th>max_item_price</th>\n",
       "      <th>total_onshift_dashers</th>\n",
       "      <th>total_busy_dashers</th>\n",
       "      <th>total_outstanding_orders</th>\n",
       "      <th>estimated_order_place_duration</th>\n",
       "      <th>estimated_store_to_consumer_driving_duration</th>\n",
       "      <th>delivery_seconds</th>\n",
       "    </tr>\n",
       "  </thead>\n",
       "  <tbody>\n",
       "    <tr>\n",
       "      <th>0</th>\n",
       "      <td>1.0</td>\n",
       "      <td>1845</td>\n",
       "      <td>american</td>\n",
       "      <td>1.0</td>\n",
       "      <td>4</td>\n",
       "      <td>3441</td>\n",
       "      <td>4</td>\n",
       "      <td>557</td>\n",
       "      <td>1239</td>\n",
       "      <td>33.0</td>\n",
       "      <td>14.0</td>\n",
       "      <td>21.0</td>\n",
       "      <td>446</td>\n",
       "      <td>861.0</td>\n",
       "      <td>3779.0</td>\n",
       "    </tr>\n",
       "    <tr>\n",
       "      <th>1</th>\n",
       "      <td>2.0</td>\n",
       "      <td>5477</td>\n",
       "      <td>mexican</td>\n",
       "      <td>2.0</td>\n",
       "      <td>1</td>\n",
       "      <td>1900</td>\n",
       "      <td>1</td>\n",
       "      <td>1400</td>\n",
       "      <td>1400</td>\n",
       "      <td>1.0</td>\n",
       "      <td>2.0</td>\n",
       "      <td>2.0</td>\n",
       "      <td>446</td>\n",
       "      <td>690.0</td>\n",
       "      <td>4024.0</td>\n",
       "    </tr>\n",
       "    <tr>\n",
       "      <th>2</th>\n",
       "      <td>3.0</td>\n",
       "      <td>5477</td>\n",
       "      <td>nan</td>\n",
       "      <td>1.0</td>\n",
       "      <td>1</td>\n",
       "      <td>1900</td>\n",
       "      <td>1</td>\n",
       "      <td>1900</td>\n",
       "      <td>1900</td>\n",
       "      <td>1.0</td>\n",
       "      <td>0.0</td>\n",
       "      <td>0.0</td>\n",
       "      <td>446</td>\n",
       "      <td>690.0</td>\n",
       "      <td>1781.0</td>\n",
       "    </tr>\n",
       "    <tr>\n",
       "      <th>3</th>\n",
       "      <td>3.0</td>\n",
       "      <td>5477</td>\n",
       "      <td>nan</td>\n",
       "      <td>1.0</td>\n",
       "      <td>6</td>\n",
       "      <td>6900</td>\n",
       "      <td>5</td>\n",
       "      <td>600</td>\n",
       "      <td>1800</td>\n",
       "      <td>1.0</td>\n",
       "      <td>1.0</td>\n",
       "      <td>2.0</td>\n",
       "      <td>446</td>\n",
       "      <td>289.0</td>\n",
       "      <td>3075.0</td>\n",
       "    </tr>\n",
       "    <tr>\n",
       "      <th>4</th>\n",
       "      <td>3.0</td>\n",
       "      <td>5477</td>\n",
       "      <td>nan</td>\n",
       "      <td>1.0</td>\n",
       "      <td>3</td>\n",
       "      <td>3900</td>\n",
       "      <td>3</td>\n",
       "      <td>1100</td>\n",
       "      <td>1600</td>\n",
       "      <td>6.0</td>\n",
       "      <td>6.0</td>\n",
       "      <td>9.0</td>\n",
       "      <td>446</td>\n",
       "      <td>650.0</td>\n",
       "      <td>2390.0</td>\n",
       "    </tr>\n",
       "  </tbody>\n",
       "</table>\n",
       "</div>"
      ],
      "text/plain": [
       "   market_id  store_id store_primary_category  order_protocol  total_items  \\\n",
       "0        1.0      1845               american             1.0            4   \n",
       "1        2.0      5477                mexican             2.0            1   \n",
       "2        3.0      5477                    nan             1.0            1   \n",
       "3        3.0      5477                    nan             1.0            6   \n",
       "4        3.0      5477                    nan             1.0            3   \n",
       "\n",
       "   subtotal  num_distinct_items  min_item_price  max_item_price  \\\n",
       "0      3441                   4             557            1239   \n",
       "1      1900                   1            1400            1400   \n",
       "2      1900                   1            1900            1900   \n",
       "3      6900                   5             600            1800   \n",
       "4      3900                   3            1100            1600   \n",
       "\n",
       "   total_onshift_dashers  total_busy_dashers  total_outstanding_orders  \\\n",
       "0                   33.0                14.0                      21.0   \n",
       "1                    1.0                 2.0                       2.0   \n",
       "2                    1.0                 0.0                       0.0   \n",
       "3                    1.0                 1.0                       2.0   \n",
       "4                    6.0                 6.0                       9.0   \n",
       "\n",
       "   estimated_order_place_duration  \\\n",
       "0                             446   \n",
       "1                             446   \n",
       "2                             446   \n",
       "3                             446   \n",
       "4                             446   \n",
       "\n",
       "   estimated_store_to_consumer_driving_duration  delivery_seconds  \n",
       "0                                         861.0            3779.0  \n",
       "1                                         690.0            4024.0  \n",
       "2                                         690.0            1781.0  \n",
       "3                                         289.0            3075.0  \n",
       "4                                         650.0            2390.0  "
      ]
     },
     "execution_count": 8,
     "metadata": {},
     "output_type": "execute_result"
    }
   ],
   "source": [
    "df_preprocessor.report_shape()\n",
    "df_preprocessor.peek_head()"
   ]
  },
  {
   "cell_type": "code",
   "execution_count": 9,
   "metadata": {},
   "outputs": [],
   "source": [
    "def label_encode(col):\n",
    "    encoder = LabelEncoder()\n",
    "    transformed = encoder.fit_transform(df_preprocessor.get_dataframe()[col])\n",
    "    return encoder, transformed\n",
    "\n",
    "def transform_categorical_col(col):\n",
    "    encoder, transformed = label_encode(col)\n",
    "    df_preprocessor.remove_cols([col], kind=\"name\")\n",
    "    df_preprocessor.append_column(col, transformed)\n",
    "    return encoder"
   ]
  },
  {
   "cell_type": "markdown",
   "metadata": {},
   "source": [
    "### Encode Categorical Columns"
   ]
  },
  {
   "cell_type": "code",
   "execution_count": 10,
   "metadata": {},
   "outputs": [
    {
     "name": "stdout",
     "output_type": "stream",
     "text": [
      "Shape Updated from (197421, 15) -> (197421, 14) | 1 Columns Removed.\n"
     ]
    }
   ],
   "source": [
    "store_cat_encoder = transform_categorical_col(\"store_primary_category\")"
   ]
  },
  {
   "cell_type": "code",
   "execution_count": 11,
   "metadata": {},
   "outputs": [
    {
     "data": {
      "text/plain": [
       "(197414, 15)"
      ]
     },
     "execution_count": 11,
     "metadata": {},
     "output_type": "execute_result"
    }
   ],
   "source": [
    "df = df_preprocessor.get_dataframe()\n",
    "df = df[~np.isnan(df[\"delivery_seconds\"])]\n",
    "df.shape"
   ]
  },
  {
   "cell_type": "markdown",
   "metadata": {},
   "source": [
    "### Fill nan with default values"
   ]
  },
  {
   "cell_type": "code",
   "execution_count": 12,
   "metadata": {},
   "outputs": [],
   "source": [
    "def df_mean(df, col):\n",
    "    val = df[col]\n",
    "    val = val[~np.isnan(val)]\n",
    "    return np.mean(val)\n",
    "\n",
    "def df_median(df, col):\n",
    "    val = df[col]\n",
    "    val = val[~np.isnan(val)]\n",
    "    return np.median(val)\n",
    "\n",
    "def df_mode(df, col):\n",
    "    from collections import Counter\n",
    "    c = Counter(df[col])\n",
    "    return c.most_common()[0][0]"
   ]
  },
  {
   "cell_type": "code",
   "execution_count": 13,
   "metadata": {},
   "outputs": [],
   "source": [
    "train_features = [\n",
    " 'store_primary_category',\n",
    " 'total_items',\n",
    " 'subtotal',\n",
    " 'num_distinct_items',\n",
    " 'min_item_price',\n",
    " 'max_item_price',\n",
    " 'total_onshift_dashers',\n",
    " 'total_busy_dashers',\n",
    " 'total_outstanding_orders',\n",
    " 'estimated_order_place_duration',\n",
    " 'estimated_store_to_consumer_driving_duration']"
   ]
  },
  {
   "cell_type": "code",
   "execution_count": 14,
   "metadata": {},
   "outputs": [
    {
     "name": "stdout",
     "output_type": "stream",
     "text": [
      "total_onshift_dashers\n",
      "total_busy_dashers\n",
      "total_outstanding_orders\n",
      "estimated_store_to_consumer_driving_duration\n"
     ]
    }
   ],
   "source": [
    "nan_cols = []\n",
    "for r in train_features:\n",
    "    if any(np.isnan(df[r])):\n",
    "        nan_cols.append(r)\n",
    "        print(r)"
   ]
  },
  {
   "cell_type": "code",
   "execution_count": 15,
   "metadata": {},
   "outputs": [
    {
     "data": {
      "text/plain": [
       "{'order_protocol': 1.0,\n",
       " 'total_onshift_dashers': 37.0,\n",
       " 'total_busy_dashers': 34.0,\n",
       " 'total_outstanding_orders': 41.0,\n",
       " 'estimated_order_place_duration': 251.0,\n",
       " 'estimated_store_to_consumer_driving_duration': 544.0}"
      ]
     },
     "execution_count": 15,
     "metadata": {},
     "output_type": "execute_result"
    }
   ],
   "source": [
    "default_vals = {\n",
    "    \"order_protocol\": df_mode(df, \"order_protocol\"),\n",
    "    \"total_onshift_dashers\": df_median(df, \"total_onshift_dashers\"),\n",
    "    \"total_busy_dashers\": df_median(df, \"total_busy_dashers\"),\n",
    "    \"total_outstanding_orders\": df_median(df, \"total_outstanding_orders\"),\n",
    "    \"estimated_order_place_duration\": df_median(df, \"estimated_order_place_duration\"),   \n",
    "    \"estimated_store_to_consumer_driving_duration\": df_median(df, \"estimated_store_to_consumer_driving_duration\"),   \n",
    "}\n",
    "\n",
    "default_vals"
   ]
  },
  {
   "cell_type": "code",
   "execution_count": 16,
   "metadata": {},
   "outputs": [],
   "source": [
    "def fill_df_with_default(df):\n",
    "    df.fillna(default_vals, inplace=True)"
   ]
  },
  {
   "cell_type": "code",
   "execution_count": 17,
   "metadata": {},
   "outputs": [],
   "source": [
    "fill_df_with_default(df)\n",
    "X = df[train_features].as_matrix()\n",
    "y = df[\"delivery_seconds\"]"
   ]
  },
  {
   "cell_type": "markdown",
   "metadata": {},
   "source": [
    "## Train a regression model"
   ]
  },
  {
   "cell_type": "code",
   "execution_count": 18,
   "metadata": {},
   "outputs": [],
   "source": [
    "X_train, X_test, y_train, y_test = train_test_split(X, y, test_size=0.33, random_state=42)"
   ]
  },
  {
   "cell_type": "code",
   "execution_count": 19,
   "metadata": {},
   "outputs": [
    {
     "name": "stdout",
     "output_type": "stream",
     "text": [
      "MSE: 1117761902.9413\n"
     ]
    }
   ],
   "source": [
    "# Fit regression model\n",
    "clf = LinearRegression()\n",
    "clf.fit(X_train, y_train)\n",
    "y_pred = clf.predict(X_test)\n",
    "mse = mean_squared_error(y_test, y_pred)\n",
    "print(\"MSE: %.4f\" % mse)"
   ]
  },
  {
   "cell_type": "markdown",
   "metadata": {},
   "source": [
    "### Analyze feature coefficients"
   ]
  },
  {
   "cell_type": "code",
   "execution_count": 20,
   "metadata": {},
   "outputs": [
    {
     "name": "stdout",
     "output_type": "stream",
     "text": [
      "num_distinct_items                                : 15.03\n",
      "total_items                                       : -4.89\n",
      "total_onshift_dashers                             : -2.47\n",
      "total_outstanding_orders                          : 2.33\n",
      "total_busy_dashers                                : -1.93\n",
      "estimated_order_place_duration                    : 0.96\n",
      "store_primary_category                            : 0.76\n",
      "max_item_price                                    : 0.11\n",
      "estimated_store_to_consumer_driving_duration      : 0.10\n",
      "min_item_price                                    : 0.02\n",
      "subtotal                                          : 0.01\n"
     ]
    }
   ],
   "source": [
    "features_scored = []\n",
    "for feature, coef in zip(train_features, clf.coef_):\n",
    "    features_scored.append((feature, coef))\n",
    "\n",
    "features_scored.sort(key = lambda x: -abs(x[1]))\n",
    "for feature, coef in features_scored:\n",
    "    print(\"{:50}: {:.2f}\".format(feature, coef))"
   ]
  },
  {
   "cell_type": "markdown",
   "metadata": {},
   "source": [
    "# Predict\n",
    "\n"
   ]
  },
  {
   "cell_type": "code",
   "execution_count": 21,
   "metadata": {},
   "outputs": [
    {
     "name": "stdout",
     "output_type": "stream",
     "text": [
      "(54778, 12)\n"
     ]
    }
   ],
   "source": [
    "prediction_df = load_prediction_todo_as_df()\n",
    "prediction_df.drop([\"market_id\", \"order_protocol\", \"platform\", \"store_id\", \"created_at\"], inplace=True, axis=1)\n",
    "print(prediction_df.shape)"
   ]
  },
  {
   "cell_type": "code",
   "execution_count": 22,
   "metadata": {},
   "outputs": [],
   "source": [
    "fill_df_with_default(prediction_df)\n",
    "encoded = store_cat_encoder.transform([(x if x != \"NA\" else \"nan\") for x in prediction_df[\"store_primary_category\"]])\n",
    "prediction_df[\"store_primary_category\"] = encoded"
   ]
  },
  {
   "cell_type": "code",
   "execution_count": 23,
   "metadata": {},
   "outputs": [
    {
     "data": {
      "text/html": [
       "<div>\n",
       "<style scoped>\n",
       "    .dataframe tbody tr th:only-of-type {\n",
       "        vertical-align: middle;\n",
       "    }\n",
       "\n",
       "    .dataframe tbody tr th {\n",
       "        vertical-align: top;\n",
       "    }\n",
       "\n",
       "    .dataframe thead th {\n",
       "        text-align: right;\n",
       "    }\n",
       "</style>\n",
       "<table border=\"1\" class=\"dataframe\">\n",
       "  <thead>\n",
       "    <tr style=\"text-align: right;\">\n",
       "      <th></th>\n",
       "      <th>store_primary_category</th>\n",
       "      <th>total_items</th>\n",
       "      <th>subtotal</th>\n",
       "      <th>num_distinct_items</th>\n",
       "      <th>min_item_price</th>\n",
       "      <th>max_item_price</th>\n",
       "      <th>total_onshift_dashers</th>\n",
       "      <th>total_busy_dashers</th>\n",
       "      <th>total_outstanding_orders</th>\n",
       "      <th>estimated_order_place_duration</th>\n",
       "      <th>estimated_store_to_consumer_driving_duration</th>\n",
       "    </tr>\n",
       "  </thead>\n",
       "  <tbody>\n",
       "    <tr>\n",
       "      <th>0</th>\n",
       "      <td>50</td>\n",
       "      <td>5.0</td>\n",
       "      <td>7500.0</td>\n",
       "      <td>4.0</td>\n",
       "      <td>800.0</td>\n",
       "      <td>1800.0</td>\n",
       "      <td>4.0</td>\n",
       "      <td>4.0</td>\n",
       "      <td>4.0</td>\n",
       "      <td>446.0</td>\n",
       "      <td>670.0</td>\n",
       "    </tr>\n",
       "    <tr>\n",
       "      <th>1</th>\n",
       "      <td>50</td>\n",
       "      <td>5.0</td>\n",
       "      <td>7100.0</td>\n",
       "      <td>4.0</td>\n",
       "      <td>800.0</td>\n",
       "      <td>1500.0</td>\n",
       "      <td>4.0</td>\n",
       "      <td>1.0</td>\n",
       "      <td>1.0</td>\n",
       "      <td>446.0</td>\n",
       "      <td>446.0</td>\n",
       "    </tr>\n",
       "    <tr>\n",
       "      <th>2</th>\n",
       "      <td>70</td>\n",
       "      <td>4.0</td>\n",
       "      <td>4500.0</td>\n",
       "      <td>2.0</td>\n",
       "      <td>750.0</td>\n",
       "      <td>1500.0</td>\n",
       "      <td>9.0</td>\n",
       "      <td>7.0</td>\n",
       "      <td>6.0</td>\n",
       "      <td>446.0</td>\n",
       "      <td>504.0</td>\n",
       "    </tr>\n",
       "    <tr>\n",
       "      <th>3</th>\n",
       "      <td>50</td>\n",
       "      <td>1.0</td>\n",
       "      <td>1700.0</td>\n",
       "      <td>1.0</td>\n",
       "      <td>1400.0</td>\n",
       "      <td>1400.0</td>\n",
       "      <td>3.0</td>\n",
       "      <td>3.0</td>\n",
       "      <td>3.0</td>\n",
       "      <td>446.0</td>\n",
       "      <td>687.0</td>\n",
       "    </tr>\n",
       "    <tr>\n",
       "      <th>4</th>\n",
       "      <td>39</td>\n",
       "      <td>2.0</td>\n",
       "      <td>3150.0</td>\n",
       "      <td>2.0</td>\n",
       "      <td>1525.0</td>\n",
       "      <td>1625.0</td>\n",
       "      <td>4.0</td>\n",
       "      <td>4.0</td>\n",
       "      <td>4.0</td>\n",
       "      <td>446.0</td>\n",
       "      <td>528.0</td>\n",
       "    </tr>\n",
       "  </tbody>\n",
       "</table>\n",
       "</div>"
      ],
      "text/plain": [
       "   store_primary_category  total_items  subtotal  num_distinct_items  \\\n",
       "0                      50          5.0    7500.0                 4.0   \n",
       "1                      50          5.0    7100.0                 4.0   \n",
       "2                      70          4.0    4500.0                 2.0   \n",
       "3                      50          1.0    1700.0                 1.0   \n",
       "4                      39          2.0    3150.0                 2.0   \n",
       "\n",
       "   min_item_price  max_item_price  total_onshift_dashers  total_busy_dashers  \\\n",
       "0           800.0          1800.0                    4.0                 4.0   \n",
       "1           800.0          1500.0                    4.0                 1.0   \n",
       "2           750.0          1500.0                    9.0                 7.0   \n",
       "3          1400.0          1400.0                    3.0                 3.0   \n",
       "4          1525.0          1625.0                    4.0                 4.0   \n",
       "\n",
       "   total_outstanding_orders  estimated_order_place_duration  \\\n",
       "0                       4.0                           446.0   \n",
       "1                       1.0                           446.0   \n",
       "2                       6.0                           446.0   \n",
       "3                       3.0                           446.0   \n",
       "4                       4.0                           446.0   \n",
       "\n",
       "   estimated_store_to_consumer_driving_duration  \n",
       "0                                         670.0  \n",
       "1                                         446.0  \n",
       "2                                         504.0  \n",
       "3                                         687.0  \n",
       "4                                         528.0  "
      ]
     },
     "execution_count": 23,
     "metadata": {},
     "output_type": "execute_result"
    }
   ],
   "source": [
    "prediction_df[train_features].head()"
   ]
  },
  {
   "cell_type": "code",
   "execution_count": 24,
   "metadata": {},
   "outputs": [],
   "source": [
    "seconds_predicted = clf.predict(prediction_df[train_features].as_matrix())"
   ]
  },
  {
   "cell_type": "code",
   "execution_count": 25,
   "metadata": {},
   "outputs": [
    {
     "data": {
      "text/plain": [
       "54778"
      ]
     },
     "execution_count": 25,
     "metadata": {},
     "output_type": "execute_result"
    }
   ],
   "source": [
    "len(seconds_predicted)"
   ]
  },
  {
   "cell_type": "markdown",
   "metadata": {},
   "source": [
    "### Generate output tsv and dump"
   ]
  },
  {
   "cell_type": "code",
   "execution_count": 26,
   "metadata": {},
   "outputs": [],
   "source": [
    "deliver_ids = prediction_df[\"delivery_id\"]\n",
    "rows = []\n",
    "for id, seconds in zip(deliver_ids, seconds_predicted):\n",
    "    rows.append([id, int(seconds)])\n",
    "\n",
    "output_df = mat2df(np.array(rows), [\"delivery_id\", \"predicted_delivery_seconds\"])"
   ]
  },
  {
   "cell_type": "code",
   "execution_count": 27,
   "metadata": {},
   "outputs": [
    {
     "name": "stdout",
     "output_type": "stream",
     "text": [
      "Data Dumped to ./output/predictions.tsv\n"
     ]
    }
   ],
   "source": [
    "dump(output_df, save_path=\"./output/predictions.tsv\")"
   ]
  }
 ],
 "metadata": {
  "kernelspec": {
   "display_name": "Python 3",
   "language": "python",
   "name": "python3"
  },
  "language_info": {
   "codemirror_mode": {
    "name": "ipython",
    "version": 3
   },
   "file_extension": ".py",
   "mimetype": "text/x-python",
   "name": "python",
   "nbconvert_exporter": "python",
   "pygments_lexer": "ipython3",
   "version": "3.7.3"
  }
 },
 "nbformat": 4,
 "nbformat_minor": 4
}
